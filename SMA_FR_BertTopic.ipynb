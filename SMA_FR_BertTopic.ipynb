{
 "cells": [
  {
   "cell_type": "markdown",
   "metadata": {},
   "source": [
    "本段開始進行BERTopic主題模型說明"
   ]
  },
  {
   "cell_type": "code",
   "execution_count": null,
   "metadata": {
    "colab": {
     "base_uri": "https://localhost:8080/"
    },
    "executionInfo": {
     "elapsed": 1416,
     "status": "ok",
     "timestamp": 1749472574918,
     "user": {
      "displayName": "Carol",
      "userId": "12320481359283931293"
     },
     "user_tz": -480
    },
    "id": "lPfaOeEh9isC",
    "outputId": "882ab9eb-2990-411e-b21b-1305afbc2fca"
   },
   "outputs": [],
   "source": [
    "import os\n",
    "from google.colab import drive\n",
    "drive.mount('/content/drive')\n",
    "\n",
    "os.chdir('/content/drive/MyDrive/SMA_final/') #切換該目錄\n",
    "os.listdir() #確認目錄內容"
   ]
  },
  {
   "cell_type": "code",
   "execution_count": null,
   "metadata": {
    "executionInfo": {
     "elapsed": 2,
     "status": "ok",
     "timestamp": 1749475119455,
     "user": {
      "displayName": "Carol",
      "userId": "12320481359283931293"
     },
     "user_tz": -480
    },
    "id": "rLbOyR5eHWq7"
   },
   "outputs": [],
   "source": [
    "# !pip install sentence_transformers\n",
    "# !pip install bertopic"
   ]
  },
  {
   "cell_type": "code",
   "execution_count": null,
   "metadata": {
    "id": "xb5jZMDc-BQF"
   },
   "outputs": [],
   "source": [
    "import pandas as pd\n",
    "import re\n",
    "import numpy as np\n",
    "from collections import defaultdict\n",
    "import multiprocessing\n",
    "import jieba\n",
    "import matplotlib.pyplot as plt\n",
    "from matplotlib.font_manager import fontManager\n",
    "from sentence_transformers import SentenceTransformer\n",
    "\n",
    "# 設定字體\n",
    "fontManager.addfont('./copy/TaipeiSansTCBeta-Regular.ttf')\n",
    "plt.rcParams['font.sans-serif'] = ['Taipei Sans TC Beta']\n",
    "plt.rcParams['font.size'] = '16'"
   ]
  },
  {
   "cell_type": "markdown",
   "metadata": {
    "id": "froQfCfKAvxl"
   },
   "source": [
    "# Transformer 模型下的主題詮釋與文本關聯：以 BERT 嵌入為基礎的主題分析\n",
    "\n",
    "使用 BERT 中文語意嵌入、HDBSCAN 分群與 BERTopic 主題建模技術，進行主題抽取與語意詮釋。最後，我們利用 GPT API 為每個主題生成描述。\n",
    "\n",
    "---\n",
    "\n",
    "## Step 1：資料讀取與清洗\n"
   ]
  },
  {
   "cell_type": "code",
   "execution_count": null,
   "metadata": {
    "id": "wAbY_k2vAgY4"
   },
   "outputs": [],
   "source": [
    "import os\n",
    "import pandas as pd\n",
    "\n",
    "# 讀取資料\n",
    "df = pd.read_csv('chiikawa_unified_data.csv')\n"
   ]
  },
  {
   "cell_type": "code",
   "execution_count": null,
   "metadata": {
    "colab": {
     "base_uri": "https://localhost:8080/"
    },
    "executionInfo": {
     "elapsed": 489,
     "status": "ok",
     "timestamp": 1749471890577,
     "user": {
      "displayName": "Carol",
      "userId": "12320481359283931293"
     },
     "user_tz": -480
    },
    "id": "hloCh2DVNGPe",
    "outputId": "38c03485-90e3-4772-bc2b-fb9c540db9f0"
   },
   "outputs": [],
   "source": [
    "# 對文本進行完整的清理\n",
    "df['clean_content'] = df['artContent'].astype(str)\n",
    "# 將多個連續換行符替換為句號\n",
    "df['clean_content'] = df['clean_content'].str.replace(r'\\n\\n', '。', regex=True)\n",
    "# 將單個換行符替換為逗號\n",
    "df['clean_content'] = df['clean_content'].str.replace(r'\\n', '，', regex=True)\n",
    "# 移除網址\n",
    "df['clean_content'] = df['clean_content'].str.replace(r'http\\S+', '', regex=True).str.replace(r'www\\S+', '', regex=True)\n",
    "# 統一標點符號，移除表情符號和特殊符號\n",
    "df['clean_content'] = df['clean_content'].str.replace(r'[^\\u4e00-\\u9fff\\s.,!?;:、，。！？；：]', '', regex=True)\n",
    "\n",
    "# 使用正則表達式進行更精確的斷句\n",
    "def split_sentences(text):\n",
    "    # 以句號、問號、感嘆號等作為斷句標記\n",
    "    sentences = re.split(r'[。！？!?]+', text)\n",
    "    # 移除空字符串和只包含空白的字符串\n",
    "    return [s.strip() for s in sentences if s.strip()]\n",
    "\n",
    "df['sentences'] = df['clean_content'].apply(split_sentences)\n",
    "\n",
    "# 檢視斷句結果\n",
    "sample_sentences = df[df['sentences'].str.len() > 0].iloc[0]['sentences']\n",
    "print(f\"斷句範例：{sample_sentences[:3]}\")  # 顯示前3個句子"
   ]
  },
  {
   "cell_type": "code",
   "execution_count": null,
   "metadata": {
    "colab": {
     "base_uri": "https://localhost:8080/"
    },
    "executionInfo": {
     "elapsed": 1392,
     "status": "ok",
     "timestamp": 1749471894456,
     "user": {
      "displayName": "Carol",
      "userId": "12320481359283931293"
     },
     "user_tz": -480
    },
    "id": "8vrCEsa8N_y6",
    "outputId": "f99e4a94-6e04-4112-af30-e65d6c89a51e"
   },
   "outputs": [],
   "source": [
    "# 設定jieba的字典和使用者自定義詞典\n",
    "jieba.set_dictionary('dict/dict.txt.big')  # 使用繁體中文字典\n",
    "\n",
    "# 新增特定領域詞彙到自定義詞典\n",
    "custom_words = [\n",
    "    # 主要名稱\n",
    "    \"Chiikawa\", \"吉伊卡哇\", \"ちいかわ\", \"吉伊\", \"小可愛\", \"吉依\", \"寶寶\",\n",
    "\n",
    "    # 主要角色\n",
    "    \"小八貓\", \"ハチワレ\", \"Hachiware\", \"八字瀏海\", \"小八\", \"藍色褲頭貓\", \"哈奇\" , \"哈吉\",\n",
    "    \"兔兔\", \"うさぎ\", \"Usagi\", \"烏薩奇\", \"兔哥\", \"537\",\n",
    "    \"小桃\", \"モモンガ\", \"Momonga\", \"飛鼠\",\n",
    "    \"海獺勇者\", \"ラッコ\", \"Rakko\",\n",
    "    \"栗子饅頭\", \"くりまんじゅう\", \"Kuri-Manjuu\", \"前輩\",\n",
    "\n",
    "    # 其他角色\n",
    "    \"風獅\", \"シーサー\", \"Shisa\", \"獅薩\",\n",
    "    \"拉麵鎧甲人\", \"手拿包鎧甲人\", \"勞動鎧甲人\", \"鎧甲人\",\n",
    "    \"睡衣派對\", \"パジャマパーティーズ\", \"哥布林\",\n",
    "\n",
    "    # 特殊詞彙\n",
    "    \"吉伊卡哇構文\", \"除草考試\", \"除草檢定\", \"小可愛族\",\n",
    "    \"郎拉麵店\", \"三級除草證件\", \"討伐\", \"抽獎運\",\n",
    "\n",
    "    # 特性描述\n",
    "    \"膽小鬼\", \"愛哭鬼\", \"療癒\", \"二頭身\", \"啊哈\", \"吖哈\",\n",
    "    \"又小又可愛\", \"なんか小さくてかわいいやつ\",\n",
    "\n",
    "    # 創作相關\n",
    "    \"Nagano\", \"ナガノ\", \"動畫工房\", \"周邊商品\", \"貼圖\", \"一番賞\"\n",
    "]\n",
    "\n",
    "for word in custom_words:\n",
    "    jieba.add_word(word, freq=100)  # 給予較高詞頻以確保能被切分出來\n",
    "\n",
    "# 建立角色同義詞映射表\n",
    "character_synonyms = {\n",
    "    # 主角同義詞映射\n",
    "    \"ちいかわ\": \"吉伊卡哇\", \"Chiikawa\": \"吉伊卡哇\", \"吉伊\": \"吉伊卡哇\",\n",
    "    \"小可愛\": \"吉伊卡哇\", \"吉依\": \"吉伊卡哇\",\n",
    "\n",
    "    # 小八貓同義詞映射\n",
    "    \"ハチワレ\": \"小八貓\", \"Hachiware\": \"小八貓\", \"八字瀏海\": \"小八貓\",\n",
    "    \"小八\": \"小八貓\", \"藍色褲頭貓\": \"小八貓\", \"哈奇\": \"小八貓\", \"哈吉\": \"小八貓\",\n",
    "\n",
    "    # 兔兔同義詞映射\n",
    "    \"うさぎ\": \"兔兔\", \"Usagi\": \"兔兔\", \"烏薩奇\": \"兔兔\",\n",
    "    \"兔哥\": \"兔兔\", \"537\": \"兔兔\",\n",
    "\n",
    "    # 其他角色同義詞映射\n",
    "    \"モモンガ\": \"小桃\", \"Momonga\": \"小桃\", \"飛鼠\": \"小桃\",\n",
    "    \"ラッコ\": \"海獺勇者\", \"Rakko\": \"海獺勇者\",\n",
    "    \"くりまんじゅう\": \"栗子饅頭\", \"Kuri-Manjuu\": \"栗子饅頭\", \"前輩\": \"栗子饅頭\",\n",
    "    \"シーサー\": \"風獅\", \"Shisa\": \"風獅\", \"獅薩\": \"風獅\",\n",
    "    \"パジャマパーティーズ\": \"睡衣派對\", \"哥布林\": \"睡衣派對\"\n",
    "}\n",
    "\n",
    "# 載入停用詞\n",
    "def load_stopwords(file_path):\n",
    "    try:\n",
    "        with open(file_path, 'r', encoding='utf-8') as f:\n",
    "            stopwords = [line.strip() for line in f.readlines()]\n",
    "        return set(stopwords)\n",
    "    except UnicodeDecodeError:\n",
    "        with open(file_path, 'r', encoding='big5') as f:\n",
    "            stopwords = [line.strip() for line in f.readlines()]\n",
    "        return set(stopwords)\n",
    "    except Exception as e:\n",
    "        print(f\"讀取停用詞檔案時發生錯誤: {e}\")\n",
    "        return set()\n",
    "\n",
    "# 讀取停用詞\n",
    "stopwords_path = \"./dict/stopwords.txt\"\n",
    "stopwords = load_stopwords(stopwords_path)\n",
    "print(f\"已載入 {len(stopwords)} 個停用詞\")\n",
    "\n",
    "# 新增自定義停用詞\n",
    "custom_stopwords = [\n",
    "    # 代詞\n",
    "    \"我\", \"你\", \"他\", \"她\", \"它\", \"我們\", \"你們\", \"他們\", \"她們\", \"它們\", \"這\", \"那\", \"這些\", \"那些\", \"誰\", \"什麼\", \"哪\", \"哪裡\", \"哪兒\", \"怎麼\", \"怎樣\", \"如何\",\n",
    "\n",
    "    # 連接詞\n",
    "    \"和\", \"與\", \"而\", \"並\", \"或\", \"但\", \"但是\", \"然而\", \"所以\", \"因為\", \"因此\", \"如果\", \"雖然\", \"即使\", \"無論\", \"只要\", \"不論\", \"假如\", \"若\", \"若是\",\n",
    "\n",
    "    # 助詞\n",
    "    \"的\", \"地\", \"得\", \"了\", \"著\", \"過\", \"吧\", \"嗎\", \"呢\", \"啊\", \"哦\", \"喔\", \"呀\", \"耶\", \"哎\", \"唉\", \"嗯\", \"嘿\",\n",
    "\n",
    "    # 副詞\n",
    "    \"很\", \"非常\", \"極\", \"太\", \"更\", \"最\", \"又\", \"也\", \"都\", \"還\", \"只\", \"就\", \"才\", \"剛\", \"曾\", \"已\", \"將\", \"不\", \"沒\", \"別\", \"莫\", \"勿\",\n",
    "\n",
    "    # 介詞\n",
    "    \"在\", \"從\", \"向\", \"往\", \"於\", \"對\", \"給\", \"為\", \"替\", \"由\", \"把\", \"被\", \"讓\", \"使\", \"隨\", \"跟\", \"靠\", \"據\", \"至\", \"到\", \"自\",\n",
    "\n",
    "    # 數量詞\n",
    "    \"一\", \"二\", \"三\", \"四\", \"五\", \"六\", \"七\", \"八\", \"九\", \"十\", \"百\", \"千\", \"萬\", \"億\", \"兆\", \"個\", \"些\", \"每\", \"某\", \"各\", \"整\", \"全\", \"多\", \"少\", \"幾\",\n",
    "\n",
    "    # 時間詞\n",
    "    \"年\", \"月\", \"日\", \"時\", \"分\", \"秒\", \"天\", \"週\", \"季\", \"今\", \"昨\", \"明\", \"前\", \"後\", \"當\", \"正\", \"現\", \"曾\", \"已\", \"將\", \"會\", \"常\", \"永\",\n",
    "\n",
    "    # 方位詞\n",
    "    \"上\", \"下\", \"左\", \"右\", \"前\", \"後\", \"內\", \"外\", \"中\", \"東\", \"西\", \"南\", \"北\", \"中間\", \"旁邊\", \"附近\", \"周圍\",\n",
    "\n",
    "    # 常用動詞\n",
    "    \"是\", \"有\", \"無\", \"來\", \"去\", \"做\", \"看\", \"聽\", \"說\", \"想\", \"要\", \"能\", \"會\", \"可以\", \"應該\", \"必須\", \"需要\", \"得\", \"獲\", \"取\", \"予\",\n",
    "\n",
    "    # 常用形容詞\n",
    "    \"好\", \"壞\", \"大\", \"小\", \"多\", \"少\", \"高\", \"低\", \"長\", \"短\", \"新\", \"舊\", \"快\", \"慢\", \"遠\", \"近\", \"輕\", \"重\", \"深\", \"淺\",\n",
    "\n",
    "    # 其他常見虛詞\n",
    "    \"之\", \"乎\", \"以\", \"其\", \"所\", \"者\", \"矣\", \"焉\", \"哉\", \"也\", \"然\", \"否\", \"兮\", \"乃\", \"且\", \"為\", \"則\", \"再\", \"又\", \"此\", \"夫\", \"亦\",\n",
    "\n",
    "    # 常見短語\n",
    "    \"一個\", \"這個\", \"那個\", \"一些\", \"這些\", \"那些\", \"一下\", \"一點\", \"一直\", \"一定\", \"一般\", \"一樣\", \"不過\", \"不必\", \"不要\", \"可能\", \"可是\", \"只是\", \"就是\", \"如此\", \"如果\", \"這樣\", \"那樣\", \"這麼\", \"那麼\", \"因此\", \"所以\", \"然後\", \"接著\", \"其實\", \"其中\", \"其他\", \"其它\", \"之前\", \"之後\", \"之中\", \"之間\",\n",
    "\n",
    "    # 網路用語\n",
    "    \"http\", \"www\", \"com\", \"cn\", \"org\", \"net\", \"html\", \"htm\", \"php\", \"jpg\", \"png\", \"gif\", \"..\", \"\\r\"\n",
    "]\n",
    "stopwords.update(custom_stopwords)\n",
    "\n"
   ]
  },
  {
   "cell_type": "code",
   "execution_count": null,
   "metadata": {
    "id": "jsDU9bvHp07h"
   },
   "outputs": [],
   "source": [
    "def preprocess(text, stopwords):\n",
    "    # 使用 jieba 分詞\n",
    "    words = jieba.cut(text)\n",
    "    # 移除停用詞與空字串\n",
    "    filtered_words = [w for w in words if w.strip() and w not in stopwords]\n",
    "    return \" \".join(filtered_words)  # 用空白分隔，方便 CountVectorizer 使用\n",
    "\n",
    "# 套用到 df[\"clean_content\"]\n",
    "df[\"processed_text\"] = df[\"clean_content\"].apply(lambda x: preprocess(x, stopwords))"
   ]
  },
  {
   "cell_type": "code",
   "execution_count": null,
   "metadata": {
    "colab": {
     "base_uri": "https://localhost:8080/",
     "height": 937
    },
    "executionInfo": {
     "elapsed": 208,
     "status": "ok",
     "timestamp": 1749471954545,
     "user": {
      "displayName": "Carol",
      "userId": "12320481359283931293"
     },
     "user_tz": -480
    },
    "id": "gE54yVUWlZLL",
    "outputId": "eb0550ad-88dc-46ff-85d5-55fbae490236"
   },
   "outputs": [],
   "source": [
    "df.head()"
   ]
  },
  {
   "cell_type": "code",
   "execution_count": null,
   "metadata": {
    "id": "L0P9_oImOCbK"
   },
   "outputs": [],
   "source": [
    "# 假設「artContent」是文章內容，「category」是標籤\n",
    "df = df.rename(columns={'processed_text': 'text', 'category': 'label'})\n",
    "\n",
    "# 移除缺失值\n",
    "df = df.dropna(subset=['text', 'label'])"
   ]
  },
  {
   "cell_type": "markdown",
   "metadata": {
    "id": "XLJ9OSyIA4uo"
   },
   "source": [
    "## Step 2：建立繁體中文嵌入與分詞工具\n",
    "使用 `google-bert/bert-base-chinese` 作為語意嵌入模型，並搭配 `jieba` 進行繁體中文斷詞\n"
   ]
  },
  {
   "cell_type": "code",
   "execution_count": null,
   "metadata": {
    "colab": {
     "base_uri": "https://localhost:8080/",
     "height": 67,
     "referenced_widgets": [
      "01d1d1cc98b247d985aa3b1b3398c711",
      "da9963e91961426980974e1bc0b339fa",
      "0227ff19629449fc8b643534a04483d3",
      "9b5cf61a74354127913696dd3558f7c1",
      "af35361032de40c19f6e890c5b4ea380",
      "85d33876123c417389611a944c22989a",
      "41cca918a38b424fa541a07f90e46eac",
      "6b14fa94d6274b98a7758d967d154d61",
      "7849a2623e0e44ffb26da1d298b669be",
      "5878fa711e404815b383b0dc9a2adae6",
      "f6597decbf54414588c92368623d4dd4"
     ]
    },
    "executionInfo": {
     "elapsed": 81564,
     "status": "ok",
     "timestamp": 1749473047793,
     "user": {
      "displayName": "Carol",
      "userId": "12320481359283931293"
     },
     "user_tz": -480
    },
    "id": "1JMFDsrs1Cpa",
    "outputId": "6b6231a5-3a3f-4e7e-a176-63ceef63cf68"
   },
   "outputs": [],
   "source": [
    "# 套用到每篇文章\n",
    "docs_zh = df['text'].tolist()\n",
    "docs_zh = [doc for doc in docs_zh if doc.strip()]\n",
    "\n",
    "# === Step 3: BERT 中文嵌入 ===\n",
    "bert_sentence_model = SentenceTransformer(\"google-bert/bert-base-chinese\")\n",
    "embeddings = bert_sentence_model.encode(docs_zh, show_progress_bar=True)"
   ]
  },
  {
   "cell_type": "markdown",
   "metadata": {
    "id": "eXF33lq2MH2V"
   },
   "source": [
    "## Step 3：BERTopic 主題模型訓練（含自訂 jieba 分詞器）\n",
    "我們使用 HDBSCAN 進行主題分群，並以 TF 向量從每群中擷取代表性詞彙"
   ]
  },
  {
   "cell_type": "code",
   "execution_count": null,
   "metadata": {
    "colab": {
     "base_uri": "https://localhost:8080/"
    },
    "executionInfo": {
     "elapsed": 26588,
     "status": "ok",
     "timestamp": 1749473308035,
     "user": {
      "displayName": "Carol",
      "userId": "12320481359283931293"
     },
     "user_tz": -480
    },
    "id": "a96cLXnzMJWy",
    "outputId": "5d5e5f17-5bb4-4bb7-ee34-402d83f671a1"
   },
   "outputs": [],
   "source": [
    "from hdbscan import HDBSCAN\n",
    "from sklearn.feature_extraction.text import CountVectorizer\n",
    "from bertopic import BERTopic\n",
    "\n",
    "\n",
    "hdbscan_model = HDBSCAN(\n",
    "    min_cluster_size=50,\n",
    "    min_samples=5,\n",
    "    metric='euclidean',\n",
    "    cluster_selection_method='leaf'\n",
    ")\n",
    "# 中文分詞函數\n",
    "def tokenize_zh(text):\n",
    "    return jieba.lcut(text)\n",
    "\n",
    "# 使用 jieba 分詞的 CountVectorizer\n",
    "jieba_vectorizer = CountVectorizer(\n",
    "    tokenizer=tokenize_zh,\n",
    "    stop_words=list(stopwords),\n",
    "    analyzer='word',\n",
    "    token_pattern=u\"(?u)\\\\b\\\\w+\\\\b\"\n",
    ")\n",
    "\n",
    "# 建立 BERTopic 模型\n",
    "zh_topic_model = BERTopic(\n",
    "    embedding_model=bert_sentence_model,\n",
    "    vectorizer_model=jieba_vectorizer,\n",
    "    hdbscan_model=hdbscan_model,\n",
    "    verbose=True,\n",
    "    top_n_words=30\n",
    ")\n",
    "\n",
    "# 執行模型訓練\n",
    "topics, probs = zh_topic_model.fit_transform(docs_zh, embeddings)\n"
   ]
  },
  {
   "cell_type": "markdown",
   "metadata": {
    "id": "utFNWF49NSF9"
   },
   "source": [
    "## Step 4：主題檢視與關鍵詞提取\n",
    "查看每個主題的代表性關鍵詞與文章數"
   ]
  },
  {
   "cell_type": "code",
   "execution_count": null,
   "metadata": {
    "colab": {
     "base_uri": "https://localhost:8080/",
     "height": 469
    },
    "executionInfo": {
     "elapsed": 11223,
     "status": "ok",
     "timestamp": 1749473408629,
     "user": {
      "displayName": "Carol",
      "userId": "12320481359283931293"
     },
     "user_tz": -480
    },
    "id": "j_YRY4mQNUy7",
    "outputId": "87db4bfb-3268-47b0-b677-ad82950bca8d"
   },
   "outputs": [],
   "source": [
    "zh_topic_model.reduce_topics(docs_zh, nr_topics=20)\n",
    "zh_topic_model.get_topic_info().head(10)"
   ]
  },
  {
   "cell_type": "markdown",
   "metadata": {
    "id": "h_M4mm0jWLP9"
   },
   "source": [
    "互動式圖表探索主題空間與主題關鍵詞"
   ]
  },
  {
   "cell_type": "code",
   "execution_count": null,
   "metadata": {
    "colab": {
     "base_uri": "https://localhost:8080/",
     "height": 667
    },
    "executionInfo": {
     "elapsed": 197,
     "status": "ok",
     "timestamp": 1749473411780,
     "user": {
      "displayName": "Carol",
      "userId": "12320481359283931293"
     },
     "user_tz": -480
    },
    "id": "sSPruafgNid8",
    "outputId": "79691d73-398e-4914-abb1-1dfeb6a81a03"
   },
   "outputs": [],
   "source": [
    "zh_topic_model.visualize_topics()"
   ]
  },
  {
   "cell_type": "markdown",
   "metadata": {
    "id": "MMrS0znON8FV"
   },
   "source": [
    "## Step 5：使用 GPT 為主題自動生成描述\n",
    "我們將每個主題的前 10 個關鍵詞輸入 GPT，讓它推測此群主題所屬分類描述"
   ]
  },
  {
   "cell_type": "code",
   "execution_count": null,
   "metadata": {
    "executionInfo": {
     "elapsed": 42,
     "status": "ok",
     "timestamp": 1749475209389,
     "user": {
      "displayName": "Carol",
      "userId": "12320481359283931293"
     },
     "user_tz": -480
    },
    "id": "rldLHrobOnTq"
   },
   "outputs": [],
   "source": [
    "# !pip install openai"
   ]
  },
  {
   "cell_type": "code",
   "execution_count": null,
   "metadata": {
    "id": "gazGMP65OxyN"
   },
   "outputs": [],
   "source": [
    "# 讀取API key\n",
    "with open(\"gpt_api_key.txt\", \"r\", encoding=\"utf-8\") as f:\n",
    "    key = f.read().strip()"
   ]
  },
  {
   "cell_type": "code",
   "execution_count": null,
   "metadata": {
    "id": "hGPey8nnOe17"
   },
   "outputs": [],
   "source": [
    "from openai import OpenAI\n",
    "client = OpenAI(api_key=key)\n",
    "def call_gpt(keywords):\n",
    "    try:\n",
    "        prompt = f\"\"\"你是一位主題詮釋專家。請根據以下關鍵詞推論它們所代表的主題，並以繁體中文簡要描述該主題的內容。\n",
    "\n",
    "關鍵詞：{\", \".join(keywords)}\n",
    "\n",
    "請只回覆主題敘述，不需要列出主題類別，也不要加任何額外說明。\"\"\"\n",
    "        response = client.chat.completions.create(\n",
    "            model=\"gpt-4o-mini\",\n",
    "            messages=[{\"role\": \"user\", \"content\": prompt}],\n",
    "            temperature=0.8\n",
    "        )\n",
    "        output = response.choices[0].message.content.strip()\n",
    "        return output\n",
    "    except Exception as e:\n",
    "        print(f\"⚠️ Error: {e}\")\n",
    "        return \"\""
   ]
  },
  {
   "cell_type": "code",
   "execution_count": null,
   "metadata": {
    "colab": {
     "base_uri": "https://localhost:8080/"
    },
    "executionInfo": {
     "elapsed": 6,
     "status": "ok",
     "timestamp": 1749473422246,
     "user": {
      "displayName": "Carol",
      "userId": "12320481359283931293"
     },
     "user_tz": -480
    },
    "id": "LYCE4psAN9dI",
    "outputId": "2697ec50-78e0-4e3a-9aaa-9bd1ef5a686e"
   },
   "outputs": [],
   "source": [
    "import openai\n",
    "import time\n",
    "\n",
    "# 擷取主題關鍵詞\n",
    "topic_keywords = {\n",
    "    topic: [w[0] for w in zh_topic_model.get_topic(topic)[:10]]\n",
    "    for topic in zh_topic_model.get_topics().keys()\n",
    "    if topic != -1\n",
    "}\n",
    "\n",
    "topic_keywords\n"
   ]
  },
  {
   "cell_type": "code",
   "execution_count": null,
   "metadata": {
    "colab": {
     "base_uri": "https://localhost:8080/"
    },
    "executionInfo": {
     "elapsed": 82722,
     "status": "ok",
     "timestamp": 1749473705476,
     "user": {
      "displayName": "Carol",
      "userId": "12320481359283931293"
     },
     "user_tz": -480
    },
    "id": "JuYaqkiOvn1P",
    "outputId": "c41fb6c2-0588-497b-e842-687a3b09691a"
   },
   "outputs": [],
   "source": [
    "# 執行 GPT 詮釋\n",
    "gpt_labels = {}\n",
    "for topic_id, keywords in topic_keywords.items():\n",
    "    print(f\"\\n 主題 {topic_id} 關鍵字: {', '.join(keywords)}\")\n",
    "    label = call_gpt(keywords)\n",
    "    print(f\"GPT 推論：{label}\")\n",
    "    time.sleep(1.5)\n"
   ]
  }
 ],
 "metadata": {
  "accelerator": "GPU",
  "colab": {
   "authorship_tag": "ABX9TyP4+kfyZjJjZ5xhOA1FPORI",
   "gpuType": "T4",
   "provenance": []
  },
  "kernelspec": {
   "display_name": "Python 3 (ipykernel)",
   "language": "python",
   "name": "python3"
  },
  "language_info": {
   "codemirror_mode": {
    "name": "ipython",
    "version": 3
   },
   "file_extension": ".py",
   "mimetype": "text/x-python",
   "name": "python",
   "nbconvert_exporter": "python",
   "pygments_lexer": "ipython3",
   "version": "3.12.3"
  },
  "widgets": {
   "application/vnd.jupyter.widget-state+json": {
    "01d1d1cc98b247d985aa3b1b3398c711": {
     "model_module": "@jupyter-widgets/controls",
     "model_module_version": "1.5.0",
     "model_name": "HBoxModel",
     "state": {
      "_dom_classes": [],
      "_model_module": "@jupyter-widgets/controls",
      "_model_module_version": "1.5.0",
      "_model_name": "HBoxModel",
      "_view_count": null,
      "_view_module": "@jupyter-widgets/controls",
      "_view_module_version": "1.5.0",
      "_view_name": "HBoxView",
      "box_style": "",
      "children": [
       "IPY_MODEL_da9963e91961426980974e1bc0b339fa",
       "IPY_MODEL_0227ff19629449fc8b643534a04483d3",
       "IPY_MODEL_9b5cf61a74354127913696dd3558f7c1"
      ],
      "layout": "IPY_MODEL_af35361032de40c19f6e890c5b4ea380"
     }
    },
    "0227ff19629449fc8b643534a04483d3": {
     "model_module": "@jupyter-widgets/controls",
     "model_module_version": "1.5.0",
     "model_name": "FloatProgressModel",
     "state": {
      "_dom_classes": [],
      "_model_module": "@jupyter-widgets/controls",
      "_model_module_version": "1.5.0",
      "_model_name": "FloatProgressModel",
      "_view_count": null,
      "_view_module": "@jupyter-widgets/controls",
      "_view_module_version": "1.5.0",
      "_view_name": "ProgressView",
      "bar_style": "success",
      "description": "",
      "description_tooltip": null,
      "layout": "IPY_MODEL_6b14fa94d6274b98a7758d967d154d61",
      "max": 375,
      "min": 0,
      "orientation": "horizontal",
      "style": "IPY_MODEL_7849a2623e0e44ffb26da1d298b669be",
      "value": 375
     }
    },
    "41cca918a38b424fa541a07f90e46eac": {
     "model_module": "@jupyter-widgets/controls",
     "model_module_version": "1.5.0",
     "model_name": "DescriptionStyleModel",
     "state": {
      "_model_module": "@jupyter-widgets/controls",
      "_model_module_version": "1.5.0",
      "_model_name": "DescriptionStyleModel",
      "_view_count": null,
      "_view_module": "@jupyter-widgets/base",
      "_view_module_version": "1.2.0",
      "_view_name": "StyleView",
      "description_width": ""
     }
    },
    "5878fa711e404815b383b0dc9a2adae6": {
     "model_module": "@jupyter-widgets/base",
     "model_module_version": "1.2.0",
     "model_name": "LayoutModel",
     "state": {
      "_model_module": "@jupyter-widgets/base",
      "_model_module_version": "1.2.0",
      "_model_name": "LayoutModel",
      "_view_count": null,
      "_view_module": "@jupyter-widgets/base",
      "_view_module_version": "1.2.0",
      "_view_name": "LayoutView",
      "align_content": null,
      "align_items": null,
      "align_self": null,
      "border": null,
      "bottom": null,
      "display": null,
      "flex": null,
      "flex_flow": null,
      "grid_area": null,
      "grid_auto_columns": null,
      "grid_auto_flow": null,
      "grid_auto_rows": null,
      "grid_column": null,
      "grid_gap": null,
      "grid_row": null,
      "grid_template_areas": null,
      "grid_template_columns": null,
      "grid_template_rows": null,
      "height": null,
      "justify_content": null,
      "justify_items": null,
      "left": null,
      "margin": null,
      "max_height": null,
      "max_width": null,
      "min_height": null,
      "min_width": null,
      "object_fit": null,
      "object_position": null,
      "order": null,
      "overflow": null,
      "overflow_x": null,
      "overflow_y": null,
      "padding": null,
      "right": null,
      "top": null,
      "visibility": null,
      "width": null
     }
    },
    "6b14fa94d6274b98a7758d967d154d61": {
     "model_module": "@jupyter-widgets/base",
     "model_module_version": "1.2.0",
     "model_name": "LayoutModel",
     "state": {
      "_model_module": "@jupyter-widgets/base",
      "_model_module_version": "1.2.0",
      "_model_name": "LayoutModel",
      "_view_count": null,
      "_view_module": "@jupyter-widgets/base",
      "_view_module_version": "1.2.0",
      "_view_name": "LayoutView",
      "align_content": null,
      "align_items": null,
      "align_self": null,
      "border": null,
      "bottom": null,
      "display": null,
      "flex": null,
      "flex_flow": null,
      "grid_area": null,
      "grid_auto_columns": null,
      "grid_auto_flow": null,
      "grid_auto_rows": null,
      "grid_column": null,
      "grid_gap": null,
      "grid_row": null,
      "grid_template_areas": null,
      "grid_template_columns": null,
      "grid_template_rows": null,
      "height": null,
      "justify_content": null,
      "justify_items": null,
      "left": null,
      "margin": null,
      "max_height": null,
      "max_width": null,
      "min_height": null,
      "min_width": null,
      "object_fit": null,
      "object_position": null,
      "order": null,
      "overflow": null,
      "overflow_x": null,
      "overflow_y": null,
      "padding": null,
      "right": null,
      "top": null,
      "visibility": null,
      "width": null
     }
    },
    "7849a2623e0e44ffb26da1d298b669be": {
     "model_module": "@jupyter-widgets/controls",
     "model_module_version": "1.5.0",
     "model_name": "ProgressStyleModel",
     "state": {
      "_model_module": "@jupyter-widgets/controls",
      "_model_module_version": "1.5.0",
      "_model_name": "ProgressStyleModel",
      "_view_count": null,
      "_view_module": "@jupyter-widgets/base",
      "_view_module_version": "1.2.0",
      "_view_name": "StyleView",
      "bar_color": null,
      "description_width": ""
     }
    },
    "85d33876123c417389611a944c22989a": {
     "model_module": "@jupyter-widgets/base",
     "model_module_version": "1.2.0",
     "model_name": "LayoutModel",
     "state": {
      "_model_module": "@jupyter-widgets/base",
      "_model_module_version": "1.2.0",
      "_model_name": "LayoutModel",
      "_view_count": null,
      "_view_module": "@jupyter-widgets/base",
      "_view_module_version": "1.2.0",
      "_view_name": "LayoutView",
      "align_content": null,
      "align_items": null,
      "align_self": null,
      "border": null,
      "bottom": null,
      "display": null,
      "flex": null,
      "flex_flow": null,
      "grid_area": null,
      "grid_auto_columns": null,
      "grid_auto_flow": null,
      "grid_auto_rows": null,
      "grid_column": null,
      "grid_gap": null,
      "grid_row": null,
      "grid_template_areas": null,
      "grid_template_columns": null,
      "grid_template_rows": null,
      "height": null,
      "justify_content": null,
      "justify_items": null,
      "left": null,
      "margin": null,
      "max_height": null,
      "max_width": null,
      "min_height": null,
      "min_width": null,
      "object_fit": null,
      "object_position": null,
      "order": null,
      "overflow": null,
      "overflow_x": null,
      "overflow_y": null,
      "padding": null,
      "right": null,
      "top": null,
      "visibility": null,
      "width": null
     }
    },
    "9b5cf61a74354127913696dd3558f7c1": {
     "model_module": "@jupyter-widgets/controls",
     "model_module_version": "1.5.0",
     "model_name": "HTMLModel",
     "state": {
      "_dom_classes": [],
      "_model_module": "@jupyter-widgets/controls",
      "_model_module_version": "1.5.0",
      "_model_name": "HTMLModel",
      "_view_count": null,
      "_view_module": "@jupyter-widgets/controls",
      "_view_module_version": "1.5.0",
      "_view_name": "HTMLView",
      "description": "",
      "description_tooltip": null,
      "layout": "IPY_MODEL_5878fa711e404815b383b0dc9a2adae6",
      "placeholder": "​",
      "style": "IPY_MODEL_f6597decbf54414588c92368623d4dd4",
      "value": " 375/375 [01:20&lt;00:00, 43.06it/s]"
     }
    },
    "af35361032de40c19f6e890c5b4ea380": {
     "model_module": "@jupyter-widgets/base",
     "model_module_version": "1.2.0",
     "model_name": "LayoutModel",
     "state": {
      "_model_module": "@jupyter-widgets/base",
      "_model_module_version": "1.2.0",
      "_model_name": "LayoutModel",
      "_view_count": null,
      "_view_module": "@jupyter-widgets/base",
      "_view_module_version": "1.2.0",
      "_view_name": "LayoutView",
      "align_content": null,
      "align_items": null,
      "align_self": null,
      "border": null,
      "bottom": null,
      "display": null,
      "flex": null,
      "flex_flow": null,
      "grid_area": null,
      "grid_auto_columns": null,
      "grid_auto_flow": null,
      "grid_auto_rows": null,
      "grid_column": null,
      "grid_gap": null,
      "grid_row": null,
      "grid_template_areas": null,
      "grid_template_columns": null,
      "grid_template_rows": null,
      "height": null,
      "justify_content": null,
      "justify_items": null,
      "left": null,
      "margin": null,
      "max_height": null,
      "max_width": null,
      "min_height": null,
      "min_width": null,
      "object_fit": null,
      "object_position": null,
      "order": null,
      "overflow": null,
      "overflow_x": null,
      "overflow_y": null,
      "padding": null,
      "right": null,
      "top": null,
      "visibility": null,
      "width": null
     }
    },
    "da9963e91961426980974e1bc0b339fa": {
     "model_module": "@jupyter-widgets/controls",
     "model_module_version": "1.5.0",
     "model_name": "HTMLModel",
     "state": {
      "_dom_classes": [],
      "_model_module": "@jupyter-widgets/controls",
      "_model_module_version": "1.5.0",
      "_model_name": "HTMLModel",
      "_view_count": null,
      "_view_module": "@jupyter-widgets/controls",
      "_view_module_version": "1.5.0",
      "_view_name": "HTMLView",
      "description": "",
      "description_tooltip": null,
      "layout": "IPY_MODEL_85d33876123c417389611a944c22989a",
      "placeholder": "​",
      "style": "IPY_MODEL_41cca918a38b424fa541a07f90e46eac",
      "value": "Batches: 100%"
     }
    },
    "f6597decbf54414588c92368623d4dd4": {
     "model_module": "@jupyter-widgets/controls",
     "model_module_version": "1.5.0",
     "model_name": "DescriptionStyleModel",
     "state": {
      "_model_module": "@jupyter-widgets/controls",
      "_model_module_version": "1.5.0",
      "_model_name": "DescriptionStyleModel",
      "_view_count": null,
      "_view_module": "@jupyter-widgets/base",
      "_view_module_version": "1.2.0",
      "_view_name": "StyleView",
      "description_width": ""
     }
    }
   }
  }
 },
 "nbformat": 4,
 "nbformat_minor": 4
}
